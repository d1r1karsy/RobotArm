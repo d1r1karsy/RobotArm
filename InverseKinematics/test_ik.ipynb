{
 "cells": [
  {
   "cell_type": "code",
   "execution_count": 4,
   "metadata": {},
   "outputs": [],
   "source": [
    "import ikpy\n",
    "import numpy as np\n",
    "from ikpy import plot_utils"
   ]
  },
  {
   "cell_type": "code",
   "execution_count": 5,
   "metadata": {},
   "outputs": [],
   "source": [
    "my_chain = ikpy.chain.Chain.from_urdf_file(\"./niryo_one.urdf\")"
   ]
  },
  {
   "cell_type": "code",
   "execution_count": 6,
   "metadata": {},
   "outputs": [],
   "source": [
    "target_vector = [ 0.1, -0.2, 0.1]\n",
    "target_frame = np.eye(4)\n",
    "target_frame[:3, 3] = target_vector"
   ]
  },
  {
   "cell_type": "code",
   "execution_count": 7,
   "metadata": {},
   "outputs": [
    {
     "name": "stdout",
     "output_type": "stream",
     "text": [
      "The angles of each joints are :  [ 0.         -1.10605503 -0.7720813  -0.5732207  -0.03469789 -0.06593618\n",
      "  0.          0.        ]\n"
     ]
    }
   ],
   "source": [
    "print(\"The angles of each joints are : \", my_chain.inverse_kinematics(target_frame))"
   ]
  }
 ],
 "metadata": {
  "kernelspec": {
   "display_name": "Python 3",
   "language": "python",
   "name": "python3"
  },
  "language_info": {
   "codemirror_mode": {
    "name": "ipython",
    "version": 3
   },
   "file_extension": ".py",
   "mimetype": "text/x-python",
   "name": "python",
   "nbconvert_exporter": "python",
   "pygments_lexer": "ipython3",
   "version": "3.7.4"
  }
 },
 "nbformat": 4,
 "nbformat_minor": 2
}
